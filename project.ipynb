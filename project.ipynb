{
 "cells": [
  {
   "cell_type": "markdown",
   "id": "9b7fe917-7d69-4a68-9e2e-e0900cc26b2f",
   "metadata": {},
   "source": [
    "## Netflix Original Films & IMDB Scores\n",
    "\n",
    "The Dataset consists of Netflix Original films released as of July 1, 2021. The dataset has been taken from kaggle, we will do analysis about the popularity of films w.r.t to language, release dates, movietime lengths. The data will initially go through the process of cleaning before preparing it for analysis. Various visualization tools will used to properly understand the depth of analysis with the help of bar charts and scatter plots.  \n",
    "\n",
    "You can find the dataset here: https://www.kaggle.com/luiscorter/netflix-original-films-imdb-scores"
   ]
  },
  {
   "cell_type": "markdown",
   "id": "fb0415db-61c5-4b42-8754-d36783cf898a",
   "metadata": {},
   "source": [
    "### Loading the Datset\n",
    "\n"
   ]
  },
  {
   "cell_type": "code",
   "execution_count": 2,
   "id": "77e3259f-e663-4b9d-ab0a-8e543580e963",
   "metadata": {},
   "outputs": [],
   "source": [
    "import numpy as np"
   ]
  },
  {
   "cell_type": "code",
   "execution_count": 3,
   "id": "a5fdefa4-bb5c-429d-b7ca-963054129b21",
   "metadata": {
    "tags": []
   },
   "outputs": [],
   "source": [
    "import pandas as pd\n",
    "import matplotlib.pyplot as plt\n",
    "import seaborn as sns\n"
   ]
  },
  {
   "cell_type": "code",
   "execution_count": 4,
   "id": "e0136ba0-8885-413c-8d2a-6b465ac102ab",
   "metadata": {},
   "outputs": [],
   "source": [
    "netflix_df = pd.read_csv('Netflix.csv')"
   ]
  },
  {
   "cell_type": "code",
   "execution_count": 5,
   "id": "59abbc97-6632-44ce-a359-65d4075ca6d3",
   "metadata": {},
   "outputs": [
    {
     "data": {
      "text/html": [
       "<div>\n",
       "<style scoped>\n",
       "    .dataframe tbody tr th:only-of-type {\n",
       "        vertical-align: middle;\n",
       "    }\n",
       "\n",
       "    .dataframe tbody tr th {\n",
       "        vertical-align: top;\n",
       "    }\n",
       "\n",
       "    .dataframe thead th {\n",
       "        text-align: right;\n",
       "    }\n",
       "</style>\n",
       "<table border=\"1\" class=\"dataframe\">\n",
       "  <thead>\n",
       "    <tr style=\"text-align: right;\">\n",
       "      <th></th>\n",
       "      <th>Title</th>\n",
       "      <th>Genre</th>\n",
       "      <th>Premiere</th>\n",
       "      <th>Runtime</th>\n",
       "      <th>IMDB Score</th>\n",
       "      <th>Language</th>\n",
       "    </tr>\n",
       "  </thead>\n",
       "  <tbody>\n",
       "    <tr>\n",
       "      <th>0</th>\n",
       "      <td>Enter the Anime</td>\n",
       "      <td>Documentary</td>\n",
       "      <td>August 5, 2019</td>\n",
       "      <td>58</td>\n",
       "      <td>2.5</td>\n",
       "      <td>English/Japanese</td>\n",
       "    </tr>\n",
       "    <tr>\n",
       "      <th>1</th>\n",
       "      <td>Dark Forces</td>\n",
       "      <td>Thriller</td>\n",
       "      <td>August 21, 2020</td>\n",
       "      <td>81</td>\n",
       "      <td>2.6</td>\n",
       "      <td>Spanish</td>\n",
       "    </tr>\n",
       "    <tr>\n",
       "      <th>2</th>\n",
       "      <td>The App</td>\n",
       "      <td>Science fiction/Drama</td>\n",
       "      <td>December 26, 2019</td>\n",
       "      <td>79</td>\n",
       "      <td>2.6</td>\n",
       "      <td>Italian</td>\n",
       "    </tr>\n",
       "    <tr>\n",
       "      <th>3</th>\n",
       "      <td>The Open House</td>\n",
       "      <td>Horror thriller</td>\n",
       "      <td>January 19, 2018</td>\n",
       "      <td>94</td>\n",
       "      <td>3.2</td>\n",
       "      <td>English</td>\n",
       "    </tr>\n",
       "    <tr>\n",
       "      <th>4</th>\n",
       "      <td>Kaali Khuhi</td>\n",
       "      <td>Mystery</td>\n",
       "      <td>October 30, 2020</td>\n",
       "      <td>90</td>\n",
       "      <td>3.4</td>\n",
       "      <td>Hindi</td>\n",
       "    </tr>\n",
       "    <tr>\n",
       "      <th>...</th>\n",
       "      <td>...</td>\n",
       "      <td>...</td>\n",
       "      <td>...</td>\n",
       "      <td>...</td>\n",
       "      <td>...</td>\n",
       "      <td>...</td>\n",
       "    </tr>\n",
       "    <tr>\n",
       "      <th>579</th>\n",
       "      <td>Taylor Swift: Reputation Stadium Tour</td>\n",
       "      <td>Concert Film</td>\n",
       "      <td>December 31, 2018</td>\n",
       "      <td>125</td>\n",
       "      <td>8.4</td>\n",
       "      <td>English</td>\n",
       "    </tr>\n",
       "    <tr>\n",
       "      <th>580</th>\n",
       "      <td>Winter on Fire: Ukraine's Fight for Freedom</td>\n",
       "      <td>Documentary</td>\n",
       "      <td>October 9, 2015</td>\n",
       "      <td>91</td>\n",
       "      <td>8.4</td>\n",
       "      <td>English/Ukranian/Russian</td>\n",
       "    </tr>\n",
       "    <tr>\n",
       "      <th>581</th>\n",
       "      <td>Springsteen on Broadway</td>\n",
       "      <td>One-man show</td>\n",
       "      <td>December 16, 2018</td>\n",
       "      <td>153</td>\n",
       "      <td>8.5</td>\n",
       "      <td>English</td>\n",
       "    </tr>\n",
       "    <tr>\n",
       "      <th>582</th>\n",
       "      <td>Emicida: AmarElo - It's All For Yesterday</td>\n",
       "      <td>Documentary</td>\n",
       "      <td>December 8, 2020</td>\n",
       "      <td>89</td>\n",
       "      <td>8.6</td>\n",
       "      <td>Portuguese</td>\n",
       "    </tr>\n",
       "    <tr>\n",
       "      <th>583</th>\n",
       "      <td>David Attenborough: A Life on Our Planet</td>\n",
       "      <td>Documentary</td>\n",
       "      <td>October 4, 2020</td>\n",
       "      <td>83</td>\n",
       "      <td>9.0</td>\n",
       "      <td>English</td>\n",
       "    </tr>\n",
       "  </tbody>\n",
       "</table>\n",
       "<p>584 rows × 6 columns</p>\n",
       "</div>"
      ],
      "text/plain": [
       "                                           Title                  Genre  \\\n",
       "0                                Enter the Anime            Documentary   \n",
       "1                                    Dark Forces               Thriller   \n",
       "2                                        The App  Science fiction/Drama   \n",
       "3                                 The Open House        Horror thriller   \n",
       "4                                    Kaali Khuhi                Mystery   \n",
       "..                                           ...                    ...   \n",
       "579        Taylor Swift: Reputation Stadium Tour           Concert Film   \n",
       "580  Winter on Fire: Ukraine's Fight for Freedom            Documentary   \n",
       "581                      Springsteen on Broadway           One-man show   \n",
       "582    Emicida: AmarElo - It's All For Yesterday            Documentary   \n",
       "583     David Attenborough: A Life on Our Planet            Documentary   \n",
       "\n",
       "              Premiere  Runtime  IMDB Score                  Language  \n",
       "0       August 5, 2019       58         2.5          English/Japanese  \n",
       "1      August 21, 2020       81         2.6                   Spanish  \n",
       "2    December 26, 2019       79         2.6                   Italian  \n",
       "3     January 19, 2018       94         3.2                   English  \n",
       "4     October 30, 2020       90         3.4                     Hindi  \n",
       "..                 ...      ...         ...                       ...  \n",
       "579  December 31, 2018      125         8.4                   English  \n",
       "580    October 9, 2015       91         8.4  English/Ukranian/Russian  \n",
       "581  December 16, 2018      153         8.5                   English  \n",
       "582   December 8, 2020       89         8.6                Portuguese  \n",
       "583    October 4, 2020       83         9.0                   English  \n",
       "\n",
       "[584 rows x 6 columns]"
      ]
     },
     "execution_count": 5,
     "metadata": {},
     "output_type": "execute_result"
    }
   ],
   "source": [
    "netflix_df"
   ]
  },
  {
   "cell_type": "markdown",
   "id": "e5bdace0-564e-4355-bf97-a69b5864b7ae",
   "metadata": {},
   "source": [
    "We can see that the original dataset contains 584 rows and 6 columns. In columns 'Language' and 'Genre', there maybe multiple choices separated by slashes."
   ]
  },
  {
   "cell_type": "code",
   "execution_count": 6,
   "id": "c5f31c7d-83d6-4462-b07d-e38e34c82b5f",
   "metadata": {},
   "outputs": [
    {
     "data": {
      "text/html": [
       "<div>\n",
       "<style scoped>\n",
       "    .dataframe tbody tr th:only-of-type {\n",
       "        vertical-align: middle;\n",
       "    }\n",
       "\n",
       "    .dataframe tbody tr th {\n",
       "        vertical-align: top;\n",
       "    }\n",
       "\n",
       "    .dataframe thead th {\n",
       "        text-align: right;\n",
       "    }\n",
       "</style>\n",
       "<table border=\"1\" class=\"dataframe\">\n",
       "  <thead>\n",
       "    <tr style=\"text-align: right;\">\n",
       "      <th></th>\n",
       "      <th>Runtime</th>\n",
       "      <th>IMDB Score</th>\n",
       "    </tr>\n",
       "  </thead>\n",
       "  <tbody>\n",
       "    <tr>\n",
       "      <th>count</th>\n",
       "      <td>584.000000</td>\n",
       "      <td>584.000000</td>\n",
       "    </tr>\n",
       "    <tr>\n",
       "      <th>mean</th>\n",
       "      <td>93.577055</td>\n",
       "      <td>6.271747</td>\n",
       "    </tr>\n",
       "    <tr>\n",
       "      <th>std</th>\n",
       "      <td>27.761683</td>\n",
       "      <td>0.979256</td>\n",
       "    </tr>\n",
       "    <tr>\n",
       "      <th>min</th>\n",
       "      <td>4.000000</td>\n",
       "      <td>2.500000</td>\n",
       "    </tr>\n",
       "    <tr>\n",
       "      <th>25%</th>\n",
       "      <td>86.000000</td>\n",
       "      <td>5.700000</td>\n",
       "    </tr>\n",
       "    <tr>\n",
       "      <th>50%</th>\n",
       "      <td>97.000000</td>\n",
       "      <td>6.350000</td>\n",
       "    </tr>\n",
       "    <tr>\n",
       "      <th>75%</th>\n",
       "      <td>108.000000</td>\n",
       "      <td>7.000000</td>\n",
       "    </tr>\n",
       "    <tr>\n",
       "      <th>max</th>\n",
       "      <td>209.000000</td>\n",
       "      <td>9.000000</td>\n",
       "    </tr>\n",
       "  </tbody>\n",
       "</table>\n",
       "</div>"
      ],
      "text/plain": [
       "          Runtime  IMDB Score\n",
       "count  584.000000  584.000000\n",
       "mean    93.577055    6.271747\n",
       "std     27.761683    0.979256\n",
       "min      4.000000    2.500000\n",
       "25%     86.000000    5.700000\n",
       "50%     97.000000    6.350000\n",
       "75%    108.000000    7.000000\n",
       "max    209.000000    9.000000"
      ]
     },
     "execution_count": 6,
     "metadata": {},
     "output_type": "execute_result"
    }
   ],
   "source": [
    "netflix_df.describe()"
   ]
  },
  {
   "cell_type": "markdown",
   "id": "599c2777-8d65-40ca-8248-a0c8cdab6ff1",
   "metadata": {},
   "source": [
    "Runtime and IMDB Scores statistics.\n"
   ]
  },
  {
   "cell_type": "code",
   "execution_count": 7,
   "id": "800edfee-26f1-4123-a104-e9cf9e1d9228",
   "metadata": {},
   "outputs": [
    {
     "data": {
      "text/plain": [
       "Index(['Title', 'Genre', 'Premiere', 'Runtime', 'IMDB Score', 'Language'], dtype='object')"
      ]
     },
     "execution_count": 7,
     "metadata": {},
     "output_type": "execute_result"
    }
   ],
   "source": [
    "netflix_df.columns"
   ]
  },
  {
   "cell_type": "markdown",
   "id": "c66951de-1c46-4804-8b88-33c81ac47bf2",
   "metadata": {},
   "source": [
    "The name of all columns above, where we can see that they of type 'object'. For convenienve we may convert few of them into type 'int'."
   ]
  },
  {
   "cell_type": "code",
   "execution_count": 8,
   "id": "2d5db988-607f-4def-9409-9c765f9cf88d",
   "metadata": {},
   "outputs": [
    {
     "name": "stdout",
     "output_type": "stream",
     "text": [
      "<class 'pandas.core.frame.DataFrame'>\n",
      "RangeIndex: 584 entries, 0 to 583\n",
      "Data columns (total 6 columns):\n",
      " #   Column      Non-Null Count  Dtype  \n",
      "---  ------      --------------  -----  \n",
      " 0   Title       584 non-null    object \n",
      " 1   Genre       584 non-null    object \n",
      " 2   Premiere    584 non-null    object \n",
      " 3   Runtime     584 non-null    int64  \n",
      " 4   IMDB Score  584 non-null    float64\n",
      " 5   Language    584 non-null    object \n",
      "dtypes: float64(1), int64(1), object(4)\n",
      "memory usage: 27.5+ KB\n"
     ]
    }
   ],
   "source": [
    "netflix_df.info()"
   ]
  },
  {
   "cell_type": "code",
   "execution_count": 9,
   "id": "430486a5-dff7-4ed1-b165-d834ccdfd375",
   "metadata": {},
   "outputs": [
    {
     "data": {
      "text/plain": [
       "English                       401\n",
       "Hindi                          33\n",
       "Spanish                        31\n",
       "French                         20\n",
       "Italian                        14\n",
       "Portuguese                     12\n",
       "Indonesian                      9\n",
       "Japanese                        6\n",
       "Korean                          6\n",
       "German                          5\n",
       "English/Spanish                 5\n",
       "Turkish                         5\n",
       "Marathi                         3\n",
       "Polish                          3\n",
       "Dutch                           3\n",
       "English/Japanese                2\n",
       "English/Hindi                   2\n",
       "English/Mandarin                2\n",
       "Filipino                        2\n",
       "Thai                            2\n",
       "English/Arabic                  1\n",
       "Khmer/English/French            1\n",
       "English/Akan                    1\n",
       "Thia/English                    1\n",
       "Spanish/Basque                  1\n",
       "English/Ukranian/Russian        1\n",
       "Tamil                           1\n",
       "English/Taiwanese/Mandarin      1\n",
       "English/Swedish                 1\n",
       "Spanish/Catalan                 1\n",
       "Bengali                         1\n",
       "English/Korean                  1\n",
       "Spanish/English                 1\n",
       "Swedish                         1\n",
       "English/Russian                 1\n",
       "Norwegian                       1\n",
       "Georgian                        1\n",
       "Malay                           1\n",
       "Name: Language, dtype: int64"
      ]
     },
     "execution_count": 9,
     "metadata": {},
     "output_type": "execute_result"
    }
   ],
   "source": [
    "netflix_df['Language'].value_counts()"
   ]
  },
  {
   "cell_type": "markdown",
   "id": "baee4a5a-b41f-418a-8c5c-a9c9efdd98fa",
   "metadata": {},
   "source": [
    "## Data Preparation and Cleaning\n",
    "\n",
    "It is clear the Language column may contain multiple languages for a particular row. So we will drop all such rows. Further for simplification we will make new columns for simple naming of month and year. Then we will analyse each column and relation between columns."
   ]
  },
  {
   "cell_type": "code",
   "execution_count": 10,
   "id": "e16534ff-806e-4bab-b893-52339a7e41c7",
   "metadata": {},
   "outputs": [
    {
     "data": {
      "text/html": [
       "<div>\n",
       "<style scoped>\n",
       "    .dataframe tbody tr th:only-of-type {\n",
       "        vertical-align: middle;\n",
       "    }\n",
       "\n",
       "    .dataframe tbody tr th {\n",
       "        vertical-align: top;\n",
       "    }\n",
       "\n",
       "    .dataframe thead th {\n",
       "        text-align: right;\n",
       "    }\n",
       "</style>\n",
       "<table border=\"1\" class=\"dataframe\">\n",
       "  <thead>\n",
       "    <tr style=\"text-align: right;\">\n",
       "      <th></th>\n",
       "      <th>Title</th>\n",
       "      <th>Genre</th>\n",
       "      <th>Premiere</th>\n",
       "      <th>Runtime</th>\n",
       "      <th>IMDB Score</th>\n",
       "      <th>Language</th>\n",
       "    </tr>\n",
       "  </thead>\n",
       "  <tbody>\n",
       "    <tr>\n",
       "      <th>0</th>\n",
       "      <td>Enter the Anime</td>\n",
       "      <td>Documentary</td>\n",
       "      <td>August 5, 2019</td>\n",
       "      <td>58</td>\n",
       "      <td>2.5</td>\n",
       "      <td>English/Japanese</td>\n",
       "    </tr>\n",
       "    <tr>\n",
       "      <th>30</th>\n",
       "      <td>After Maria</td>\n",
       "      <td>Documentary</td>\n",
       "      <td>May 24, 2019</td>\n",
       "      <td>37</td>\n",
       "      <td>4.6</td>\n",
       "      <td>English/Spanish</td>\n",
       "    </tr>\n",
       "    <tr>\n",
       "      <th>126</th>\n",
       "      <td>Bomb Scared</td>\n",
       "      <td>Black comedy</td>\n",
       "      <td>October 12, 2017</td>\n",
       "      <td>89</td>\n",
       "      <td>5.6</td>\n",
       "      <td>Spanish/Basque</td>\n",
       "    </tr>\n",
       "    <tr>\n",
       "      <th>263</th>\n",
       "      <td>A Tale of Two Kitchens</td>\n",
       "      <td>Documentary</td>\n",
       "      <td>May 22, 2019</td>\n",
       "      <td>30</td>\n",
       "      <td>6.3</td>\n",
       "      <td>English/Spanish</td>\n",
       "    </tr>\n",
       "    <tr>\n",
       "      <th>287</th>\n",
       "      <td>The Outsider</td>\n",
       "      <td>Crime drama</td>\n",
       "      <td>March 9, 2018</td>\n",
       "      <td>120</td>\n",
       "      <td>6.3</td>\n",
       "      <td>English/Japanese</td>\n",
       "    </tr>\n",
       "    <tr>\n",
       "      <th>295</th>\n",
       "      <td>Birders</td>\n",
       "      <td>Documentary</td>\n",
       "      <td>September 25, 2019</td>\n",
       "      <td>37</td>\n",
       "      <td>6.4</td>\n",
       "      <td>English/Spanish</td>\n",
       "    </tr>\n",
       "    <tr>\n",
       "      <th>316</th>\n",
       "      <td>Two Catalonias</td>\n",
       "      <td>Documentary</td>\n",
       "      <td>September 28, 2018</td>\n",
       "      <td>116</td>\n",
       "      <td>6.4</td>\n",
       "      <td>Spanish/Catalan</td>\n",
       "    </tr>\n",
       "    <tr>\n",
       "      <th>320</th>\n",
       "      <td>A 3 Minute Hug</td>\n",
       "      <td>Documentary</td>\n",
       "      <td>October 28, 2019</td>\n",
       "      <td>28</td>\n",
       "      <td>6.5</td>\n",
       "      <td>English/Spanish</td>\n",
       "    </tr>\n",
       "    <tr>\n",
       "      <th>334</th>\n",
       "      <td>Life Overtakes Me</td>\n",
       "      <td>Documentary</td>\n",
       "      <td>June 14, 2019</td>\n",
       "      <td>40</td>\n",
       "      <td>6.5</td>\n",
       "      <td>English/Swedish</td>\n",
       "    </tr>\n",
       "    <tr>\n",
       "      <th>343</th>\n",
       "      <td>Tigertail</td>\n",
       "      <td>Drama</td>\n",
       "      <td>April 10, 2020</td>\n",
       "      <td>91</td>\n",
       "      <td>6.5</td>\n",
       "      <td>English/Taiwanese/Mandarin</td>\n",
       "    </tr>\n",
       "    <tr>\n",
       "      <th>375</th>\n",
       "      <td>Hope Frozen: A Quest to Live Twice</td>\n",
       "      <td>Documentary</td>\n",
       "      <td>September 15, 2020</td>\n",
       "      <td>80</td>\n",
       "      <td>6.7</td>\n",
       "      <td>Thia/English</td>\n",
       "    </tr>\n",
       "    <tr>\n",
       "      <th>394</th>\n",
       "      <td>All in My Family</td>\n",
       "      <td>Documentary</td>\n",
       "      <td>May 3, 2019</td>\n",
       "      <td>39</td>\n",
       "      <td>6.8</td>\n",
       "      <td>English/Mandarin</td>\n",
       "    </tr>\n",
       "    <tr>\n",
       "      <th>481</th>\n",
       "      <td>First They Killed My Father</td>\n",
       "      <td>Drama</td>\n",
       "      <td>September 15, 2017</td>\n",
       "      <td>136</td>\n",
       "      <td>7.2</td>\n",
       "      <td>Khmer/English/French</td>\n",
       "    </tr>\n",
       "    <tr>\n",
       "      <th>485</th>\n",
       "      <td>Ladies First</td>\n",
       "      <td>Documentary</td>\n",
       "      <td>March 8, 2018</td>\n",
       "      <td>39</td>\n",
       "      <td>7.2</td>\n",
       "      <td>English/Hindi</td>\n",
       "    </tr>\n",
       "    <tr>\n",
       "      <th>505</th>\n",
       "      <td>Mucho Mucho Amor: The Legend of Walter Mercado</td>\n",
       "      <td>Documentary</td>\n",
       "      <td>July 8, 2020</td>\n",
       "      <td>96</td>\n",
       "      <td>7.3</td>\n",
       "      <td>Spanish/English</td>\n",
       "    </tr>\n",
       "    <tr>\n",
       "      <th>507</th>\n",
       "      <td>Okja</td>\n",
       "      <td>Action-adventure</td>\n",
       "      <td>June 28, 2017</td>\n",
       "      <td>121</td>\n",
       "      <td>7.3</td>\n",
       "      <td>English/Korean</td>\n",
       "    </tr>\n",
       "    <tr>\n",
       "      <th>510</th>\n",
       "      <td>ReMastered: Massacre at the Stadium</td>\n",
       "      <td>Documentary</td>\n",
       "      <td>January 11, 2019</td>\n",
       "      <td>64</td>\n",
       "      <td>7.3</td>\n",
       "      <td>English/Spanish</td>\n",
       "    </tr>\n",
       "    <tr>\n",
       "      <th>512</th>\n",
       "      <td>Secrets of the Saqqara Tomb</td>\n",
       "      <td>Documentary</td>\n",
       "      <td>October 28, 2020</td>\n",
       "      <td>114</td>\n",
       "      <td>7.3</td>\n",
       "      <td>English/Arabic</td>\n",
       "    </tr>\n",
       "    <tr>\n",
       "      <th>514</th>\n",
       "      <td>Sky Ladder: The Art of Cai Guo-Qiang</td>\n",
       "      <td>Documentary</td>\n",
       "      <td>October 14, 2016</td>\n",
       "      <td>79</td>\n",
       "      <td>7.3</td>\n",
       "      <td>English/Mandarin</td>\n",
       "    </tr>\n",
       "    <tr>\n",
       "      <th>515</th>\n",
       "      <td>Team Foxcatcher</td>\n",
       "      <td>Documentary</td>\n",
       "      <td>April 29, 2016</td>\n",
       "      <td>90</td>\n",
       "      <td>7.3</td>\n",
       "      <td>English/Russian</td>\n",
       "    </tr>\n",
       "    <tr>\n",
       "      <th>524</th>\n",
       "      <td>Period. End of Sentence.</td>\n",
       "      <td>Documentary</td>\n",
       "      <td>February 12, 2019</td>\n",
       "      <td>26</td>\n",
       "      <td>7.4</td>\n",
       "      <td>English/Hindi</td>\n",
       "    </tr>\n",
       "    <tr>\n",
       "      <th>553</th>\n",
       "      <td>Beasts of No Nation</td>\n",
       "      <td>War drama</td>\n",
       "      <td>October 16, 2015</td>\n",
       "      <td>136</td>\n",
       "      <td>7.7</td>\n",
       "      <td>English/Akan</td>\n",
       "    </tr>\n",
       "    <tr>\n",
       "      <th>580</th>\n",
       "      <td>Winter on Fire: Ukraine's Fight for Freedom</td>\n",
       "      <td>Documentary</td>\n",
       "      <td>October 9, 2015</td>\n",
       "      <td>91</td>\n",
       "      <td>8.4</td>\n",
       "      <td>English/Ukranian/Russian</td>\n",
       "    </tr>\n",
       "  </tbody>\n",
       "</table>\n",
       "</div>"
      ],
      "text/plain": [
       "                                               Title             Genre  \\\n",
       "0                                    Enter the Anime       Documentary   \n",
       "30                                       After Maria       Documentary   \n",
       "126                                      Bomb Scared      Black comedy   \n",
       "263                           A Tale of Two Kitchens       Documentary   \n",
       "287                                     The Outsider       Crime drama   \n",
       "295                                          Birders       Documentary   \n",
       "316                                   Two Catalonias       Documentary   \n",
       "320                                   A 3 Minute Hug       Documentary   \n",
       "334                                Life Overtakes Me       Documentary   \n",
       "343                                        Tigertail             Drama   \n",
       "375               Hope Frozen: A Quest to Live Twice       Documentary   \n",
       "394                                 All in My Family       Documentary   \n",
       "481                      First They Killed My Father             Drama   \n",
       "485                                     Ladies First       Documentary   \n",
       "505  Mucho Mucho Amor: The Legend of Walter Mercado        Documentary   \n",
       "507                                             Okja  Action-adventure   \n",
       "510              ReMastered: Massacre at the Stadium       Documentary   \n",
       "512                      Secrets of the Saqqara Tomb       Documentary   \n",
       "514             Sky Ladder: The Art of Cai Guo-Qiang       Documentary   \n",
       "515                                  Team Foxcatcher       Documentary   \n",
       "524                         Period. End of Sentence.       Documentary   \n",
       "553                              Beasts of No Nation         War drama   \n",
       "580      Winter on Fire: Ukraine's Fight for Freedom       Documentary   \n",
       "\n",
       "               Premiere  Runtime  IMDB Score                    Language  \n",
       "0        August 5, 2019       58         2.5            English/Japanese  \n",
       "30         May 24, 2019       37         4.6             English/Spanish  \n",
       "126    October 12, 2017       89         5.6              Spanish/Basque  \n",
       "263        May 22, 2019       30         6.3             English/Spanish  \n",
       "287       March 9, 2018      120         6.3            English/Japanese  \n",
       "295  September 25, 2019       37         6.4             English/Spanish  \n",
       "316  September 28, 2018      116         6.4             Spanish/Catalan  \n",
       "320    October 28, 2019       28         6.5             English/Spanish  \n",
       "334       June 14, 2019       40         6.5             English/Swedish  \n",
       "343      April 10, 2020       91         6.5  English/Taiwanese/Mandarin  \n",
       "375  September 15, 2020       80         6.7                Thia/English  \n",
       "394         May 3, 2019       39         6.8            English/Mandarin  \n",
       "481  September 15, 2017      136         7.2        Khmer/English/French  \n",
       "485       March 8, 2018       39         7.2               English/Hindi  \n",
       "505        July 8, 2020       96         7.3             Spanish/English  \n",
       "507       June 28, 2017      121         7.3              English/Korean  \n",
       "510    January 11, 2019       64         7.3             English/Spanish  \n",
       "512    October 28, 2020      114         7.3              English/Arabic  \n",
       "514    October 14, 2016       79         7.3            English/Mandarin  \n",
       "515      April 29, 2016       90         7.3             English/Russian  \n",
       "524   February 12, 2019       26         7.4               English/Hindi  \n",
       "553    October 16, 2015      136         7.7                English/Akan  \n",
       "580     October 9, 2015       91         8.4    English/Ukranian/Russian  "
      ]
     },
     "execution_count": 10,
     "metadata": {},
     "output_type": "execute_result"
    }
   ],
   "source": [
    "netflix_df[netflix_df.Language.str.contains('/')]"
   ]
  },
  {
   "cell_type": "code",
   "execution_count": 11,
   "id": "6ae3dc86-a1a4-40f5-afab-148c208d7784",
   "metadata": {},
   "outputs": [],
   "source": [
    "netflix_copy = netflix_df.copy(deep=True)\n",
    "netflix_df.drop(netflix_df[netflix_df.Language.str.contains('/')].index,inplace=True)"
   ]
  },
  {
   "cell_type": "markdown",
   "id": "38047fe9-b901-4bd7-a2bc-221035ebe603",
   "metadata": {},
   "source": [
    "To make the original dataset intact, we have created a copy of the orginal dataset. As the drop functions deletes the rows from the dataset."
   ]
  },
  {
   "cell_type": "code",
   "execution_count": 12,
   "id": "6a7ae9a9-d39a-4412-99a3-7af310dd024d",
   "metadata": {},
   "outputs": [
    {
     "data": {
      "text/plain": [
       "English       401\n",
       "Hindi          33\n",
       "Spanish        31\n",
       "French         20\n",
       "Italian        14\n",
       "Portuguese     12\n",
       "Indonesian      9\n",
       "Japanese        6\n",
       "Korean          6\n",
       "Turkish         5\n",
       "German          5\n",
       "Dutch           3\n",
       "Marathi         3\n",
       "Polish          3\n",
       "Thai            2\n",
       "Filipino        2\n",
       "Georgian        1\n",
       "Norwegian       1\n",
       "Malay           1\n",
       "Swedish         1\n",
       "Bengali         1\n",
       "Tamil           1\n",
       "Name: Language, dtype: int64"
      ]
     },
     "execution_count": 12,
     "metadata": {},
     "output_type": "execute_result"
    }
   ],
   "source": [
    "netflix_df['Language'].value_counts()"
   ]
  },
  {
   "cell_type": "code",
   "execution_count": 13,
   "id": "a849a320-d73b-44fb-9921-9326f85c5c14",
   "metadata": {},
   "outputs": [
    {
     "name": "stdout",
     "output_type": "stream",
     "text": [
      "<class 'pandas.core.frame.DataFrame'>\n",
      "Int64Index: 561 entries, 1 to 583\n",
      "Data columns (total 6 columns):\n",
      " #   Column      Non-Null Count  Dtype  \n",
      "---  ------      --------------  -----  \n",
      " 0   Title       561 non-null    object \n",
      " 1   Genre       561 non-null    object \n",
      " 2   Premiere    561 non-null    object \n",
      " 3   Runtime     561 non-null    int64  \n",
      " 4   IMDB Score  561 non-null    float64\n",
      " 5   Language    561 non-null    object \n",
      "dtypes: float64(1), int64(1), object(4)\n",
      "memory usage: 30.7+ KB\n"
     ]
    }
   ],
   "source": [
    "netflix_df.info()"
   ]
  },
  {
   "cell_type": "code",
   "execution_count": 14,
   "id": "e8ef1561-1f1e-4ab3-a002-2ea2fb18fa3a",
   "metadata": {},
   "outputs": [],
   "source": [
    "netflix_df=netflix_df.reset_index(drop=True)"
   ]
  },
  {
   "cell_type": "markdown",
   "id": "5815e4fc-c30c-4875-ab65-bf91efb1f664",
   "metadata": {},
   "source": [
    "## Exploratory Analysis and Visualization\n",
    "\n",
    "Below visualizations for analysis has been done by making countplots for Runtime, Language, and Year. For the analysis of Year, I have created a new column from the 'Premiere' column. Finally, a scatter plot has been created to see the relation between IMDB Score, Language and Year."
   ]
  },
  {
   "cell_type": "markdown",
   "id": "bc435b94-4776-4bda-a2af-814e625b5860",
   "metadata": {},
   "source": [
    "#### Runtime Countplot"
   ]
  },
  {
   "cell_type": "code",
   "execution_count": 15,
   "id": "2736d4ae-7611-4656-9f90-8893a30b5853",
   "metadata": {},
   "outputs": [
    {
     "data": {
      "image/png": "[encoded data removed]",
      "text/plain": [
       "<Figure size 432x288 with 1 Axes>"
      ]
     },
     "metadata": {},
     "output_type": "display_data"
    }
   ],
   "source": [
    "sns.set_style(\"darkgrid\")\n",
    "plt.xlabel('Runtime')\n",
    "plt.ylabel('Count')\n",
    "plt.hist(netflix_df.Runtime, bins=np.arange(0, 200, 20));"
   ]
  },
  {
   "cell_type": "markdown",
   "id": "e7f12b4f-1287-409a-9512-5cc7bcc0ab38",
   "metadata": {},
   "source": [
    "We can see above, that the maximum runtimes are between 75-100 range and then between 100-125 range."
   ]
  },
  {
   "cell_type": "markdown",
   "id": "58ad4f96-dabe-46eb-8c63-fd26cd377e18",
   "metadata": {},
   "source": [
    "#### Language Countplot"
   ]
  },
  {
   "cell_type": "code",
   "execution_count": 16,
   "id": "10f22d21-4bdc-407a-a17f-ed6eff05e405",
   "metadata": {},
   "outputs": [
    {
     "data": {
      "image/png": "[encoded data removed]",
      "text/plain": [
       "<Figure size 1440x576 with 1 Axes>"
      ]
     },
     "metadata": {},
     "output_type": "display_data"
    }
   ],
   "source": [
    "plt.figure(figsize=(20,8))\n",
    "sns.countplot(y=netflix_df.Language)\n",
    "plt.ylabel(None);"
   ]
  },
  {
   "cell_type": "markdown",
   "id": "ffda90f3-8574-4b9f-bc7e-9e1923b383c4",
   "metadata": {},
   "source": [
    "The Count of Language is highly skewed towards English. After that we have signification numbers for Hindi, Spanish, French and so on"
   ]
  },
  {
   "cell_type": "markdown",
   "id": "3a90ae87-c1d7-49c9-a6ff-59bfb5c67e93",
   "metadata": {},
   "source": [
    "#### Genre Analysis"
   ]
  },
  {
   "cell_type": "code",
   "execution_count": 17,
   "id": "445b84a6-bbb4-432b-887e-e6c8bbebd6aa",
   "metadata": {},
   "outputs": [
    {
     "data": {
      "text/plain": [
       "Documentary        142\n",
       "Drama               75\n",
       "Comedy              49\n",
       "Romantic comedy     39\n",
       "Thriller            33\n",
       "Comedy-drama        14\n",
       "Crime drama         10\n",
       "Horror               9\n",
       "Biopic               9\n",
       "Action               7\n",
       "Name: Genre, dtype: int64"
      ]
     },
     "execution_count": 17,
     "metadata": {},
     "output_type": "execute_result"
    }
   ],
   "source": [
    "netflix_df.Genre.value_counts().head(10)"
   ]
  },
  {
   "cell_type": "markdown",
   "id": "bf9040a8-4744-4730-9835-79412c35e9e3",
   "metadata": {},
   "source": [
    "Documentary, Drama and Comedy are the top three. Other genres upto top 7 have a significant number of viewers."
   ]
  },
  {
   "cell_type": "markdown",
   "id": "20c62948-5a63-4b5e-be20-064fe2ac6efd",
   "metadata": {},
   "source": [
    "#### Release Year Countplot"
   ]
  },
  {
   "cell_type": "code",
   "execution_count": 18,
   "id": "28907915-448b-4a2c-aa16-d0a4808e17f0",
   "metadata": {},
   "outputs": [
    {
     "name": "stdout",
     "output_type": "stream",
     "text": [
      "Sep 28 2018\n"
     ]
    }
   ],
   "source": [
    "from datetime import datetime\n",
    "strDate=\"September 28, 2018\"\n",
    "date_f=datetime.strptime(strDate, '%B %d, %Y')\n",
    "print(date_f.strftime(\"%b %d %Y\"))\n",
    "netflix_df['Year'] = 1993"
   ]
  },
  {
   "cell_type": "code",
   "execution_count": 19,
   "id": "8bd345a5-398c-4294-a6a9-eed0606672cf",
   "metadata": {},
   "outputs": [
    {
     "name": "stderr",
     "output_type": "stream",
     "text": [
      "<ipython-input-19-a81170111bf3>:2: SettingWithCopyWarning: \n",
      "A value is trying to be set on a copy of a slice from a DataFrame\n",
      "\n",
      "See the caveats in the documentation: https://pandas.pydata.org/pandas-docs/stable/user_guide/indexing.html#returning-a-view-versus-a-copy\n",
      "  netflix_df['Year'][i]=int(netflix_df['Premiere'][i][-4:])\n"
     ]
    }
   ],
   "source": [
    "for i in range(0,len(netflix_df)):\n",
    "    netflix_df['Year'][i]=int(netflix_df['Premiere'][i][-4:])"
   ]
  },
  {
   "cell_type": "markdown",
   "id": "68c5914b-9234-418a-8e01-6fbb5a1e6883",
   "metadata": {},
   "source": [
    "We have created a new column 'Year' to show the particulars years of the movie release date."
   ]
  },
  {
   "cell_type": "code",
   "execution_count": 20,
   "id": "97988aa6-8414-4046-adeb-d0aff4ff4765",
   "metadata": {},
   "outputs": [
    {
     "data": {
      "text/plain": [
       "<AxesSubplot:xlabel='count', ylabel='Year'>"
      ]
     },
     "execution_count": 20,
     "metadata": {},
     "output_type": "execute_result"
    },
    {
     "data": {
      "image/png": "[encoded data removed]",
      "text/plain": [
       "<Figure size 864x432 with 1 Axes>"
      ]
     },
     "metadata": {},
     "output_type": "display_data"
    }
   ],
   "source": [
    "plt.figure(figsize=(12, 6))\n",
    "plt.xlabel('Year')\n",
    "plt.ylabel('Number of Movies')\n",
    "\n",
    "sns.countplot(y=netflix_df.Year)"
   ]
  },
  {
   "cell_type": "markdown",
   "id": "67267fde-883e-4b94-bd6f-28c4f4813c92",
   "metadata": {},
   "source": [
    "#### Relations between IMDB Score, Language and year."
   ]
  },
  {
   "cell_type": "code",
   "execution_count": 21,
   "id": "aed711bf-3a9b-4042-bd98-4b6ca15fb61a",
   "metadata": {},
   "outputs": [
    {
     "data": {
      "image/png": "[encoded data removed]",
      "text/plain": [
       "<Figure size 1440x576 with 1 Axes>"
      ]
     },
     "metadata": {},
     "output_type": "display_data"
    }
   ],
   "source": [
    "plt.figure(figsize=(20,8))\n",
    "sns.scatterplot(x=netflix_df['Language'], y=netflix_df['IMDB Score'],hue=netflix_df['Year'], s=30);"
   ]
  },
  {
   "cell_type": "markdown",
   "id": "78ebb9e7-3a47-4836-95fb-7b7d2b295477",
   "metadata": {},
   "source": [
    "We can clearly visualize the relations of the IMDB Score, Language and year. Most of the movies lies in the middle spectrum between score range from 5 to 7. English movies have a large range of scores from about 3 to 9."
   ]
  },
  {
   "cell_type": "markdown",
   "id": "64724fb2-4bec-4cfd-ba22-50c59aecc14d",
   "metadata": {},
   "source": [
    "### Asking and Answering Questions"
   ]
  },
  {
   "cell_type": "markdown",
   "id": "98e2789e-e31c-4cd1-b648-2d1cb2928894",
   "metadata": {},
   "source": [
    "We have several insights from the above analysis. Now we will answer some few questions."
   ]
  },
  {
   "cell_type": "markdown",
   "id": "a29fdfff-df41-4d71-af6b-58c2f21955ef",
   "metadata": {},
   "source": [
    "#### Q1: In which particular month was the highest number of movies released?"
   ]
  },
  {
   "cell_type": "markdown",
   "id": "553851a8-5899-421f-a8b3-f7fd7b7349e6",
   "metadata": {},
   "source": [
    "We will make another column that will represent take first three letter from the column the represent the month, and also take the particular year."
   ]
  },
  {
   "cell_type": "code",
   "execution_count": 26,
   "id": "912df7b5-597f-4726-8589-4748a7100791",
   "metadata": {},
   "outputs": [
    {
     "name": "stderr",
     "output_type": "stream",
     "text": [
      "<ipython-input-26-184533c05f7f>:3: SettingWithCopyWarning: \n",
      "A value is trying to be set on a copy of a slice from a DataFrame\n",
      "\n",
      "See the caveats in the documentation: https://pandas.pydata.org/pandas-docs/stable/user_guide/indexing.html#returning-a-view-versus-a-copy\n",
      "  netflix_df['Month + Year'][i]=netflix_df['Premiere'][i][:3] + ' ' + netflix_df['Premiere'][i][-4:]\n",
      "/Users/Wasim/opt/anaconda3/lib/python3.8/site-packages/pandas/core/indexing.py:1637: SettingWithCopyWarning: \n",
      "A value is trying to be set on a copy of a slice from a DataFrame\n",
      "\n",
      "See the caveats in the documentation: https://pandas.pydata.org/pandas-docs/stable/user_guide/indexing.html#returning-a-view-versus-a-copy\n",
      "  self._setitem_single_block(indexer, value, name)\n"
     ]
    }
   ],
   "source": [
    "netflix_df['Month + Year'] = 1993\n",
    "for i in range(0,len(netflix_df)):\n",
    "    netflix_df['Month + Year'][i]=netflix_df['Premiere'][i][:3] + ' ' + netflix_df['Premiere'][i][-4:]"
   ]
  },
  {
   "cell_type": "code",
   "execution_count": 28,
   "id": "407262d8-e4cb-45f7-8343-69769c59b717",
   "metadata": {},
   "outputs": [
    {
     "data": {
      "text/plain": [
       "<bound method NDFrame.head of                                           Title                  Genre  \\\n",
       "0                                   Dark Forces               Thriller   \n",
       "1                                       The App  Science fiction/Drama   \n",
       "2                                The Open House        Horror thriller   \n",
       "3                                   Kaali Khuhi                Mystery   \n",
       "4                                         Drive                 Action   \n",
       "..                                          ...                    ...   \n",
       "556  Ben Platt: Live from Radio City Music Hall           Concert Film   \n",
       "557       Taylor Swift: Reputation Stadium Tour           Concert Film   \n",
       "558                     Springsteen on Broadway           One-man show   \n",
       "559   Emicida: AmarElo - It's All For Yesterday            Documentary   \n",
       "560    David Attenborough: A Life on Our Planet            Documentary   \n",
       "\n",
       "              Premiere  Runtime  IMDB Score    Language  Year Month + Year  \n",
       "0      August 21, 2020       81         2.6     Spanish  2020     Aug 2020  \n",
       "1    December 26, 2019       79         2.6     Italian  2019     Dec 2019  \n",
       "2     January 19, 2018       94         3.2     English  2018     Jan 2018  \n",
       "3     October 30, 2020       90         3.4       Hindi  2020     Oct 2020  \n",
       "4     November 1, 2019      147         3.5       Hindi  2019     Nov 2019  \n",
       "..                 ...      ...         ...         ...   ...          ...  \n",
       "556       May 20, 2020       85         8.4     English  2020     May 2020  \n",
       "557  December 31, 2018      125         8.4     English  2018     Dec 2018  \n",
       "558  December 16, 2018      153         8.5     English  2018     Dec 2018  \n",
       "559   December 8, 2020       89         8.6  Portuguese  2020     Dec 2020  \n",
       "560    October 4, 2020       83         9.0     English  2020     Oct 2020  \n",
       "\n",
       "[561 rows x 8 columns]>"
      ]
     },
     "execution_count": 28,
     "metadata": {},
     "output_type": "execute_result"
    }
   ],
   "source": [
    "netflix_df.head"
   ]
  },
  {
   "cell_type": "markdown",
   "id": "f485f92e-6de0-42f0-8a20-9c9adc752a24",
   "metadata": {},
   "source": [
    "So a 'Month + year' column has been created."
   ]
  },
  {
   "cell_type": "code",
   "execution_count": 29,
   "id": "5c6da851-e3e4-4d6c-9168-548dad350550",
   "metadata": {},
   "outputs": [
    {
     "data": {
      "text/plain": [
       "Oct 2020    30\n",
       "Dec 2020    20\n",
       "Nov 2020    20\n",
       "Name: Month + Year, dtype: int64"
      ]
     },
     "execution_count": 29,
     "metadata": {},
     "output_type": "execute_result"
    }
   ],
   "source": [
    "netflix_df['Month + Year'].value_counts()[[0,1,2]]"
   ]
  },
  {
   "cell_type": "code",
   "execution_count": 24,
   "id": "74017a4d-ae63-47b6-8acd-d499c861c148",
   "metadata": {},
   "outputs": [
    {
     "data": {
      "image/png": "[encoded data removed]",
      "text/plain": [
       "<Figure size 1440x1224 with 1 Axes>"
      ]
     },
     "metadata": {
      "needs_background": "light"
     },
     "output_type": "display_data"
    }
   ],
   "source": [
    "plt.figure(figsize=(20,17))\n",
    "sns.countplot(y=netflix_df['Month + Year'])\n",
    "plt.ylabel(None);"
   ]
  },
  {
   "cell_type": "markdown",
   "id": "be385266-187c-4175-a2f0-beba4ec8998f",
   "metadata": {},
   "source": [
    "So, we can see from the countplot that the highest number of movies was released in October, 2020, that is 30 movies followed by December, 2020 and November 2020 with equal number of 20 movies."
   ]
  },
  {
   "cell_type": "markdown",
   "id": "e404790c-4b80-444b-b719-9f0efce877e4",
   "metadata": {},
   "source": [
    "#### Q2. Which Language movies are generally popular(>7 IMDB Score) other than 'English'?"
   ]
  },
  {
   "cell_type": "code",
   "execution_count": 33,
   "id": "ab736361-2582-484c-ad11-070f257b81d0",
   "metadata": {},
   "outputs": [
    {
     "data": {
      "text/plain": [
       "0      2.6\n",
       "1      2.6\n",
       "2      3.2\n",
       "3      3.4\n",
       "4      3.5\n",
       "      ... \n",
       "556    8.4\n",
       "557    8.4\n",
       "558    8.5\n",
       "559    8.6\n",
       "560    9.0\n",
       "Name: IMDB Score, Length: 561, dtype: float64"
      ]
     },
     "execution_count": 33,
     "metadata": {},
     "output_type": "execute_result"
    }
   ],
   "source": [
    "pd.to_numeric(netflix_df['IMDB Score'])"
   ]
  },
  {
   "cell_type": "markdown",
   "id": "6051f3b8-f20f-444f-be3b-822de1689044",
   "metadata": {},
   "source": [
    "For better representation, IMDB Score column has been converted to 'float' datatype. Next, we will created a new variable for dataframe after dropping all the rows with Language 'English'"
   ]
  },
  {
   "cell_type": "code",
   "execution_count": 35,
   "id": "421fb82a-e6fe-420a-99e6-73e9d8705c64",
   "metadata": {},
   "outputs": [],
   "source": [
    "netflix_neng=netflix_df.copy(deep=True)\n",
    "netflix_neng.drop(netflix_neng[netflix_neng.Language.str.contains('English')].index,inplace=True)"
   ]
  },
  {
   "cell_type": "code",
   "execution_count": 27,
   "id": "39e558ec-72da-4e65-a40d-e75976a64013",
   "metadata": {},
   "outputs": [
    {
     "data": {
      "text/plain": [
       "Spanish       7\n",
       "Hindi         5\n",
       "Portuguese    2\n",
       "Italian       1\n",
       "Korean        1\n",
       "Marathi       1\n",
       "Tamil         1\n",
       "Bengali       1\n",
       "Dutch         1\n",
       "Name: Language, dtype: int64"
      ]
     },
     "execution_count": 27,
     "metadata": {},
     "output_type": "execute_result"
    }
   ],
   "source": [
    "netflix_neng[netflix_neng['IMDB Score']>7].Language.value_counts()"
   ]
  },
  {
   "cell_type": "code",
   "execution_count": 28,
   "id": "30029fb1-52af-4d96-b9a2-3d5c2d2f1f3d",
   "metadata": {},
   "outputs": [
    {
     "data": {
      "image/png": "[encoded data removed]",
      "text/plain": [
       "<Figure size 432x288 with 1 Axes>"
      ]
     },
     "metadata": {
      "needs_background": "light"
     },
     "output_type": "display_data"
    }
   ],
   "source": [
    "(netflix_neng[netflix_neng['IMDB Score']>7].Language.value_counts(ascending=False)).plot(kind='barh', color='g')\n",
    "\n",
    "plt.xlabel('Counts');"
   ]
  },
  {
   "cell_type": "markdown",
   "id": "5fdc9d61-14f9-46b6-9448-47f4f3466793",
   "metadata": {},
   "source": [
    "From the above analysis, we can see that Spanish language movie are popular (IMDB SCore>7) followed by Hindi movies."
   ]
  },
  {
   "cell_type": "markdown",
   "id": "e7b81838-34e2-4098-a864-0b856333dacd",
   "metadata": {},
   "source": [
    "#### Q3. Which Genre is popular(>7 IMDB Score) among English and Non-English movies?"
   ]
  },
  {
   "cell_type": "code",
   "execution_count": 29,
   "id": "776b6cd0-eba8-4415-84ad-731766823d20",
   "metadata": {},
   "outputs": [
    {
     "data": {
      "text/plain": [
       "Documentary                   7\n",
       "Drama                         5\n",
       "Crime drama                   3\n",
       "Anthology/Dark comedy         1\n",
       "Making-of                     1\n",
       "Coming-of-age comedy-drama    1\n",
       "Romantic comedy               1\n",
       "Thriller                      1\n",
       "Name: Genre, dtype: int64"
      ]
     },
     "execution_count": 29,
     "metadata": {},
     "output_type": "execute_result"
    }
   ],
   "source": [
    "netflix_neng[netflix_neng['IMDB Score']>7].Genre.value_counts()"
   ]
  },
  {
   "cell_type": "markdown",
   "id": "0fdc725c-e352-4e5d-8d73-ae7cc9f21cc2",
   "metadata": {},
   "source": [
    "In Non-english segment, Documentary is most popular followed by Drama and Crime-Drama."
   ]
  },
  {
   "cell_type": "code",
   "execution_count": 30,
   "id": "d37e4247-588f-4f5a-a31b-f73280f83443",
   "metadata": {},
   "outputs": [],
   "source": [
    "netflix_eng = netflix_df[netflix_df.Language=='English']"
   ]
  },
  {
   "cell_type": "code",
   "execution_count": 31,
   "id": "1bf622a1-a9b0-4c27-b5f8-228c114a33e1",
   "metadata": {},
   "outputs": [
    {
     "data": {
      "text/plain": [
       "Documentary                             63\n",
       "Drama                                    8\n",
       "Concert Film                             5\n",
       "Animation                                3\n",
       "Animation / Short                        2\n",
       "Crime drama                              2\n",
       "Aftershow / Interview                    2\n",
       "One-man show                             2\n",
       "Mentalism special                        1\n",
       "Western                                  1\n",
       "War                                      1\n",
       "Animation/Christmas/Comedy/Adventure     1\n",
       "Comedy                                   1\n",
       "Variety show                             1\n",
       "Psychological thriller                   1\n",
       "Making-of                                1\n",
       "Musical / Short                          1\n",
       "Historical drama                         1\n",
       "Drama-Comedy                             1\n",
       "Romantic comedy                          1\n",
       "Comedy-drama                             1\n",
       "Biopic                                   1\n",
       "Animation / Science Fiction              1\n",
       "Name: Genre, dtype: int64"
      ]
     },
     "execution_count": 31,
     "metadata": {},
     "output_type": "execute_result"
    }
   ],
   "source": [
    "netflix_eng[netflix_eng['IMDB Score']>7].Genre.value_counts()"
   ]
  },
  {
   "cell_type": "markdown",
   "id": "00a54735-5188-4478-aac8-ecb92ad69587",
   "metadata": {},
   "source": [
    "For English Movies, the popularity is skewed towards the documentary genre which is unusually high as compared to the other genre, while in the case of non english movies, the difference in popularity among different genres is not much. "
   ]
  },
  {
   "cell_type": "markdown",
   "id": "bb255c6a-3a15-4086-8d07-3b8643de9356",
   "metadata": {},
   "source": [
    "#### Q4. What is trend ( Genre and movie lengths) of the movies in the current times? "
   ]
  },
  {
   "cell_type": "markdown",
   "id": "9362c384-ea63-4f17-ab76-0c1ce86dab96",
   "metadata": {},
   "source": [
    "We will do the analysis for the year '2021'"
   ]
  },
  {
   "cell_type": "code",
   "execution_count": 37,
   "id": "00a1ecd4-bf6c-4da0-a404-f38909cf457f",
   "metadata": {},
   "outputs": [
    {
     "data": {
      "text/plain": [
       "<AxesSubplot:>"
      ]
     },
     "execution_count": 37,
     "metadata": {},
     "output_type": "execute_result"
    },
    {
     "data": {
      "image/png": "[encoded data removed]",
      "text/plain": [
       "<Figure size 432x288 with 1 Axes>"
      ]
     },
     "metadata": {},
     "output_type": "display_data"
    }
   ],
   "source": [
    "netflix_df[netflix_df['Year']==2021].Genre.value_counts()[:6].plot(kind='barh')"
   ]
  },
  {
   "cell_type": "markdown",
   "id": "2d2e1225-8cc7-458f-b47c-243d04f5db69",
   "metadata": {},
   "source": [
    "For this year, the number of movies released is greatest for Drama Genre. Below, are the runtime and IMDB Score analysis for the Drama Movies."
   ]
  },
  {
   "cell_type": "code",
   "execution_count": 43,
   "id": "f892f542-5e4e-4c74-8b0d-f17885e0110b",
   "metadata": {},
   "outputs": [
    {
     "data": {
      "image/png": "[encoded data removed]",
      "text/plain": [
       "<Figure size 432x288 with 1 Axes>"
      ]
     },
     "metadata": {},
     "output_type": "display_data"
    }
   ],
   "source": [
    "n1= netflix_df[netflix_df['Year']==2021]\n",
    "plt.title('Drama Runtime')\n",
    "plt.xlabel('Runtime')\n",
    "plt.ylabel('Count')\n",
    "\n",
    "plt.hist(n1[n1.Genre=='Drama'].Runtime, bins=np.arange(80, 150, 10));"
   ]
  },
  {
   "cell_type": "markdown",
   "id": "f00a6bca-0f5b-413c-9681-116fe798494c",
   "metadata": {},
   "source": [
    "Most of these movies have length 90-100 or 110-120."
   ]
  },
  {
   "cell_type": "code",
   "execution_count": 44,
   "id": "c5a80e6e-0105-4afc-8550-d291671d151c",
   "metadata": {},
   "outputs": [
    {
     "data": {
      "image/png": "[encoded data removed]",
      "text/plain": [
       "<Figure size 432x288 with 1 Axes>"
      ]
     },
     "metadata": {},
     "output_type": "display_data"
    }
   ],
   "source": [
    "n2=n1[n1.Genre=='Drama']\n",
    "plt.xlabel('IMDB Score')\n",
    "plt.ylabel('Count')\n",
    "plt.hist(n2['IMDB Score'], bins=np.arange(4, 10, 0.25));"
   ]
  },
  {
   "cell_type": "markdown",
   "id": "bffc77ac-9188-4851-a041-5cd783e2c589",
   "metadata": {},
   "source": [
    "Except one, all the drama movies of them have score between 6 and 7."
   ]
  }
 ],
 "metadata": {
  "language_info": {
   "codemirror_mode": {
    "name": "ipython",
    "version": 3
   },
   "file_extension": ".py",
   "mimetype": "text/x-python",
   "name": "python",
   "nbconvert_exporter": "python",
   "pygments_lexer": "ipython3",
   "version": "3.8.8"
  }
 },
 "nbformat": 4,
 "nbformat_minor": 5
}